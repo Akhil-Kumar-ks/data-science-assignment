{
 "cells": [
  {
   "cell_type": "markdown",
   "metadata": {},
   "source": [
    "# Question 1"
   ]
  },
  {
   "cell_type": "code",
   "execution_count": 1,
   "metadata": {},
   "outputs": [
    {
     "name": "stdout",
     "output_type": "stream",
     "text": [
      "[ 2  5  8 11 14 17 20 23 26 29 32 35 38 41 44 47]\n"
     ]
    }
   ],
   "source": [
    "import numpy as np\n",
    "arr = np.arange(2,50,3)\n",
    "print(arr)"
   ]
  },
  {
   "cell_type": "markdown",
   "metadata": {},
   "source": [
    "# Question 2"
   ]
  },
  {
   "cell_type": "code",
   "execution_count": 2,
   "metadata": {},
   "outputs": [
    {
     "name": "stdout",
     "output_type": "stream",
     "text": [
      "enter the elements for list 1\n",
      "8\n",
      "enter the elements for list 1\n",
      "2\n",
      "enter the elements for list 1\n",
      "4\n",
      "enter the elements for list 1\n",
      "5\n",
      "enter the elements for list 1\n",
      "1\n",
      "enter the elements for list 2\n",
      "2\n",
      "enter the elements for list 2\n",
      "9\n",
      "enter the elements for list 2\n",
      "5\n",
      "enter the elements for list 2\n",
      "4\n",
      "enter the elements for list 2\n",
      "10\n",
      "[ 8  2  4  5  1  2  9  5  4 10]\n",
      "[ 1  2  2  4  4  5  5  8  9 10]\n"
     ]
    }
   ],
   "source": [
    "a = []\n",
    "b = []\n",
    "for i in range(5):\n",
    "    x = int(input(\"enter the elements for list 1\\n\"))\n",
    "    a.append(x)\n",
    "for i in range(5):\n",
    "    x= int (input(\"enter the elements for list 2\\n\"))\n",
    "    b.append(x)\n",
    "arr1 = np.array(a)\n",
    "arr2 = np.array(b)\n",
    "\n",
    "arr3= np.concatenate((arr1,arr2))\n",
    "print(arr3)\n",
    "\n",
    "s = np.sort(arr3)\n",
    "print(s)"
   ]
  },
  {
   "cell_type": "markdown",
   "metadata": {},
   "source": [
    "# Question 3"
   ]
  },
  {
   "cell_type": "code",
   "execution_count": 3,
   "metadata": {},
   "outputs": [
    {
     "name": "stdout",
     "output_type": "stream",
     "text": [
      "2\n",
      "6\n"
     ]
    }
   ],
   "source": [
    "arr = np.array([[1,2,3],[4,5,6]])\n",
    "d = arr.ndim\n",
    "print(d)\n",
    "s = arr.size\n",
    "print(s)"
   ]
  },
  {
   "cell_type": "markdown",
   "metadata": {},
   "source": [
    "# Question 4"
   ]
  },
  {
   "cell_type": "code",
   "execution_count": 4,
   "metadata": {},
   "outputs": [
    {
     "name": "stdout",
     "output_type": "stream",
     "text": [
      "shape (10,)\n",
      "2D array in row (1, 10)\n",
      " 2d Array in column (10, 1)\n",
      "\n",
      "Shape (10,)\n",
      "\n",
      "Shape of 2d Array in row major : (1, 10)\n",
      "\n",
      "Shape of 2d Array in column major : (10, 1)\n"
     ]
    }
   ],
   "source": [
    "arr = np.arange(10)\n",
    "d = arr.shape\n",
    "print(\"shape\",d)\n",
    "\n",
    "rowarr = arr[np.newaxis, :]\n",
    "row = rowarr.shape\n",
    "print(\"2D array in row\",row)\n",
    "\n",
    "colarr = arr[:, np.newaxis]\n",
    "col = colarr.shape\n",
    "print(\" 2d Array in column\",col)\n",
    "\n",
    "\n",
    "arr = np.arange(10)\n",
    "s = arr.shape\n",
    "print(\"\\nShape\",s)\n",
    "\n",
    "\n",
    "row_arr = np.expand_dims(arr, axis=0)\n",
    "print(\"\\nShape of 2d Array in row major :\",row_arr.shape)\n",
    "\n",
    "# converting using newaxis in column wise\n",
    "col_arr = np.expand_dims(arr, axis=1)\n",
    "print(\"\\nShape of 2d Array in column major :\",col_arr.shape)"
   ]
  },
  {
   "cell_type": "markdown",
   "metadata": {},
   "source": [
    "# Question 5"
   ]
  },
  {
   "cell_type": "code",
   "execution_count": 5,
   "metadata": {},
   "outputs": [
    {
     "name": "stdout",
     "output_type": "stream",
     "text": [
      "Horizontal Append : [  1   4   9  16  25  36  49  64  81 100]\n",
      "Vertical Append : [[  1   4   9  16  25]\n",
      " [ 36  49  64  81 100]]\n"
     ]
    }
   ],
   "source": [
    "arr_1 = np.square([1, 2, 3, 4, 5])\n",
    "arr_2 = np.square([6, 7, 8, 9, 10])\n",
    "\n",
    "\n",
    "print(\"Horizontal Append :\", np.hstack((arr_1, arr_2)))\n",
    "print(\"Vertical Append :\", np.vstack((arr_1, arr_2)))"
   ]
  },
  {
   "cell_type": "markdown",
   "metadata": {},
   "source": [
    "# Question 6"
   ]
  },
  {
   "cell_type": "code",
   "execution_count": 8,
   "metadata": {},
   "outputs": [
    {
     "name": "stdout",
     "output_type": "stream",
     "text": [
      "[[ 1  2]\n",
      " [ 2  2]\n",
      " [ 3  1]\n",
      " [ 4  2]\n",
      " [ 5  2]\n",
      " [ 6  1]\n",
      " [ 7  1]\n",
      " [ 8  1]\n",
      " [ 9  1]\n",
      " [10  1]\n",
      " [16  1]\n",
      " [25  1]]\n"
     ]
    }
   ],
   "source": [
    "arr1 = np.array([1, 4, 9, 16, 25, 1, 4, 2, 3, 2, 5, 6, 5, 7, 8, 10])\n",
    "\n",
    "unique, counts = np.unique(arr1, return_counts=True)\n",
    "\n",
    "arr = np.asarray((unique, counts)).T\n",
    "\n",
    "print(arr)"
   ]
  },
  {
   "cell_type": "code",
   "execution_count": null,
   "metadata": {},
   "outputs": [],
   "source": [
    "-"
   ]
  }
 ],
 "metadata": {
  "kernelspec": {
   "display_name": "Python 3",
   "language": "python",
   "name": "python3"
  },
  "language_info": {
   "codemirror_mode": {
    "name": "ipython",
    "version": 3
   },
   "file_extension": ".py",
   "mimetype": "text/x-python",
   "name": "python",
   "nbconvert_exporter": "python",
   "pygments_lexer": "ipython3",
   "version": "3.8.3"
  }
 },
 "nbformat": 4,
 "nbformat_minor": 4
}
